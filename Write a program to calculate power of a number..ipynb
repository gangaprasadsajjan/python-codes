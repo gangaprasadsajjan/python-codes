{
 "cells": [
  {
   "cell_type": "code",
   "execution_count": 1,
   "id": "b656dec7",
   "metadata": {},
   "outputs": [],
   "source": [
    "#Write a program to calculate power of a number."
   ]
  },
  {
   "cell_type": "code",
   "execution_count": 10,
   "id": "99c61c1c",
   "metadata": {},
   "outputs": [
    {
     "name": "stdout",
     "output_type": "stream",
     "text": [
      "enter the number for calculating the number 5\n",
      "The 5 * 5 power is = 25\n"
     ]
    }
   ],
   "source": [
    "num1 = int(input(\"enter the number for calculating the number \"))\n",
    "print(\"The\",num1 ,'*',num1,'power is =' ,num1 *num1)"
   ]
  },
  {
   "cell_type": "code",
   "execution_count": null,
   "id": "d3caa263",
   "metadata": {},
   "outputs": [],
   "source": []
  }
 ],
 "metadata": {
  "kernelspec": {
   "display_name": "Python 3 (ipykernel)",
   "language": "python",
   "name": "python3"
  },
  "language_info": {
   "codemirror_mode": {
    "name": "ipython",
    "version": 3
   },
   "file_extension": ".py",
   "mimetype": "text/x-python",
   "name": "python",
   "nbconvert_exporter": "python",
   "pygments_lexer": "ipython3",
   "version": "3.10.9"
  }
 },
 "nbformat": 4,
 "nbformat_minor": 5
}
