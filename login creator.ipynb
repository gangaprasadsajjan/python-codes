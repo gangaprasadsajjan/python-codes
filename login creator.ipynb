{
 "cells": [
  {
   "cell_type": "code",
   "execution_count": null,
   "id": "5fc2708c",
   "metadata": {},
   "outputs": [],
   "source": [
    "setup = input(\"set up user name \")\n",
    "setuppass = input('setup password')\n",
    "print(\"user and password setup sucessfully\")\n",
    "\n",
    "while True:    \n",
    "    user = input(\"Enter User name\")\n",
    "    if user != (setup):\n",
    "        print(\"enter correct user\")\n",
    "        continue\n",
    "    print('user name is coorect')\n",
    "    passs = input(\"enter pass word\")\n",
    "    if passs == (setuppass):\n",
    "        print(\"login succefully\")\n",
    "        break\n"
   ]
  }
 ],
 "metadata": {
  "kernelspec": {
   "display_name": "Python 3 (ipykernel)",
   "language": "python",
   "name": "python3"
  },
  "language_info": {
   "codemirror_mode": {
    "name": "ipython",
    "version": 3
   },
   "file_extension": ".py",
   "mimetype": "text/x-python",
   "name": "python",
   "nbconvert_exporter": "python",
   "pygments_lexer": "ipython3",
   "version": "3.10.9"
  }
 },
 "nbformat": 4,
 "nbformat_minor": 5
}
