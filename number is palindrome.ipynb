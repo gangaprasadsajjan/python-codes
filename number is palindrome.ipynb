{
 "cells": [
  {
   "cell_type": "markdown",
   "id": "6542aa80",
   "metadata": {},
   "source": [
    "__program for the the given number is pallidromr or not__"
   ]
  },
  {
   "cell_type": "code",
   "execution_count": null,
   "id": "be7708cc",
   "metadata": {},
   "outputs": [],
   "source": []
  },
  {
   "cell_type": "code",
   "execution_count": 17,
   "id": "6789d73e",
   "metadata": {},
   "outputs": [
    {
     "name": "stdout",
     "output_type": "stream",
     "text": [
      "enter a number 456\n",
      "the number is palindrome \n"
     ]
    }
   ],
   "source": [
    "num = int(input(\"enter a number \"))\n",
    "re_num = 0\n",
    "for num1 in str(num): \n",
    "    re_num =  int(num1) + re_num * 10\n",
    "if num == re_num:\n",
    "    print(\"the number is palindrome \")\n",
    "else :\n",
    "    print(\"the number is not a pallindrome\")"
   ]
  },
  {
   "cell_type": "code",
   "execution_count": null,
   "id": "d829bac7",
   "metadata": {},
   "outputs": [],
   "source": []
  },
  {
   "cell_type": "code",
   "execution_count": null,
   "id": "e3c956be",
   "metadata": {},
   "outputs": [],
   "source": []
  }
 ],
 "metadata": {
  "kernelspec": {
   "display_name": "Python 3 (ipykernel)",
   "language": "python",
   "name": "python3"
  },
  "language_info": {
   "codemirror_mode": {
    "name": "ipython",
    "version": 3
   },
   "file_extension": ".py",
   "mimetype": "text/x-python",
   "name": "python",
   "nbconvert_exporter": "python",
   "pygments_lexer": "ipython3",
   "version": "3.10.9"
  }
 },
 "nbformat": 4,
 "nbformat_minor": 5
}
