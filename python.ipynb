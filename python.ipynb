{
  "nbformat": 4,
  "nbformat_minor": 0,
  "metadata": {
    "colab": {
      "provenance": [],
      "authorship_tag": "ABX9TyMe0CYKUSnZ/yVdYgERmhUj",
      "include_colab_link": true
    },
    "kernelspec": {
      "name": "python3",
      "display_name": "Python 3"
    },
    "language_info": {
      "name": "python"
    }
  },
  "cells": [
    {
      "cell_type": "markdown",
      "metadata": {
        "id": "view-in-github",
        "colab_type": "text"
      },
      "source": [
        "<a href=\"https://colab.research.google.com/github/gangaprasadsajjan/python-codes/blob/main/python.ipynb\" target=\"_parent\"><img src=\"https://colab.research.google.com/assets/colab-badge.svg\" alt=\"Open In Colab\"/></a>"
      ]
    },
    {
      "cell_type": "code",
      "execution_count": null,
      "metadata": {
        "colab": {
          "base_uri": "https://localhost:8080/"
        },
        "id": "6cOxwDY-BCOI",
        "outputId": "38e11605-a6eb-4857-d259-5436fa84d5fe"
      },
      "outputs": [
        {
          "output_type": "stream",
          "name": "stdout",
          "text": [
            "10\n",
            "<class 'int'>\n"
          ]
        }
      ],
      "source": [
        "# typecasting\n",
        "a = 10\n",
        "print(a)\n",
        "print(type(a))"
      ]
    },
    {
      "cell_type": "code",
      "source": [
        "float(a)\n",
        "print(a)"
      ],
      "metadata": {
        "colab": {
          "base_uri": "https://localhost:8080/"
        },
        "id": "RIJa771gBukT",
        "outputId": "e4058db9-1595-4eb8-da17-0b7c595bfc24"
      },
      "execution_count": null,
      "outputs": [
        {
          "output_type": "stream",
          "name": "stdout",
          "text": [
            "10\n"
          ]
        }
      ]
    },
    {
      "cell_type": "code",
      "source": [
        "# boolean\n",
        "a1 = True\n",
        "a2 = False\n",
        "print(type(a1))\n",
        "print(type(a2))"
      ],
      "metadata": {
        "colab": {
          "base_uri": "https://localhost:8080/"
        },
        "id": "iH9hEMHBB1zP",
        "outputId": "1e6cb34c-1b39-405f-ce08-3f2f6faa268a"
      },
      "execution_count": null,
      "outputs": [
        {
          "output_type": "stream",
          "name": "stdout",
          "text": [
            "<class 'bool'>\n",
            "<class 'bool'>\n"
          ]
        }
      ]
    },
    {
      "cell_type": "code",
      "source": [
        "# logical"
      ],
      "metadata": {
        "id": "dl0o5UVBCIET"
      },
      "execution_count": null,
      "outputs": []
    },
    {
      "cell_type": "code",
      "source": [
        "a1 | a2"
      ],
      "metadata": {
        "colab": {
          "base_uri": "https://localhost:8080/"
        },
        "id": "LSeaKfxtCRtV",
        "outputId": "d62ea4c5-988d-4aa6-b382-d70e52864748"
      },
      "execution_count": null,
      "outputs": [
        {
          "output_type": "execute_result",
          "data": {
            "text/plain": [
              "True"
            ]
          },
          "metadata": {},
          "execution_count": 5
        }
      ]
    },
    {
      "cell_type": "code",
      "source": [
        "# string\n",
        "name = \"krish\"\n",
        "\n",
        "print(name)\n",
        "print(type(name))"
      ],
      "metadata": {
        "colab": {
          "base_uri": "https://localhost:8080/"
        },
        "id": "r0eHW3jqCTZb",
        "outputId": "f97d9a93-b8a4-44a3-a1a5-05923769a48c"
      },
      "execution_count": null,
      "outputs": [
        {
          "output_type": "stream",
          "name": "stdout",
          "text": [
            "krish\n",
            "<class 'str'>\n"
          ]
        }
      ]
    },
    {
      "cell_type": "code",
      "source": [
        "print(name + \" naik\")"
      ],
      "metadata": {
        "colab": {
          "base_uri": "https://localhost:8080/"
        },
        "id": "-nCOXysjCd2-",
        "outputId": "5209f4f5-7808-4a2b-aabc-46d90b2bfdec"
      },
      "execution_count": null,
      "outputs": [
        {
          "output_type": "stream",
          "name": "stdout",
          "text": [
            "krish naik\n"
          ]
        }
      ]
    },
    {
      "cell_type": "code",
      "source": [
        "print(name + str( 12))"
      ],
      "metadata": {
        "colab": {
          "base_uri": "https://localhost:8080/"
        },
        "id": "0dqZZ1_QCiU6",
        "outputId": "66f6f4d2-753b-4863-ccf3-3abb490b878c"
      },
      "execution_count": null,
      "outputs": [
        {
          "output_type": "stream",
          "name": "stdout",
          "text": [
            "krish12\n"
          ]
        }
      ]
    },
    {
      "cell_type": "code",
      "source": [
        "# complex numbers\n"
      ],
      "metadata": {
        "id": "nhJzrAuqCpDJ"
      },
      "execution_count": null,
      "outputs": []
    },
    {
      "cell_type": "code",
      "source": [
        "j = 1.0 - 2.3j\n",
        "print(j)"
      ],
      "metadata": {
        "colab": {
          "base_uri": "https://localhost:8080/"
        },
        "id": "xfj2Buq2CscH",
        "outputId": "e6a447fa-3f1c-4124-d158-f15154d9af0a"
      },
      "execution_count": null,
      "outputs": [
        {
          "output_type": "stream",
          "name": "stdout",
          "text": [
            "(1-2.3j)\n"
          ]
        }
      ]
    },
    {
      "cell_type": "code",
      "source": [
        "print(type(j))"
      ],
      "metadata": {
        "colab": {
          "base_uri": "https://localhost:8080/"
        },
        "id": "sg8PuFkCCx1p",
        "outputId": "233192b6-8040-49d5-c8e5-55c03ab4065b"
      },
      "execution_count": null,
      "outputs": [
        {
          "output_type": "stream",
          "name": "stdout",
          "text": [
            "<class 'complex'>\n"
          ]
        }
      ]
    },
    {
      "cell_type": "code",
      "source": [
        "print(j.real)"
      ],
      "metadata": {
        "colab": {
          "base_uri": "https://localhost:8080/"
        },
        "id": "ZDlaBc-MCzsl",
        "outputId": "38e56e4f-e8b2-4253-9f68-428e653da7a0"
      },
      "execution_count": null,
      "outputs": [
        {
          "output_type": "stream",
          "name": "stdout",
          "text": [
            "1.0\n"
          ]
        }
      ]
    },
    {
      "cell_type": "code",
      "source": [
        "print(j.imag)"
      ],
      "metadata": {
        "colab": {
          "base_uri": "https://localhost:8080/"
        },
        "id": "UlJRZ6YZC230",
        "outputId": "37d881b2-4a27-4c88-d372-a766eb8f9a4a"
      },
      "execution_count": null,
      "outputs": [
        {
          "output_type": "stream",
          "name": "stdout",
          "text": [
            "-2.3\n"
          ]
        }
      ]
    },
    {
      "cell_type": "code",
      "source": [
        "# dyanamic typing"
      ],
      "metadata": {
        "id": "aDu-jQBfC5x9"
      },
      "execution_count": null,
      "outputs": []
    },
    {
      "cell_type": "code",
      "source": [
        "a = 10\n",
        "a = 'krish'\n"
      ],
      "metadata": {
        "id": "oTqS8D9TC-rF"
      },
      "execution_count": null,
      "outputs": []
    },
    {
      "cell_type": "code",
      "source": [
        "# storng typing\n",
        "a = 'krish'\n",
        "print(a + '1')"
      ],
      "metadata": {
        "colab": {
          "base_uri": "https://localhost:8080/"
        },
        "id": "XCRJt-UfDT7x",
        "outputId": "201c8c84-03dc-4450-ffce-c76e534a6c80"
      },
      "execution_count": null,
      "outputs": [
        {
          "output_type": "stream",
          "name": "stdout",
          "text": [
            "krish1\n"
          ]
        }
      ]
    },
    {
      "cell_type": "code",
      "source": [
        "# strong formating"
      ],
      "metadata": {
        "id": "YonNd6xfDbZd"
      },
      "execution_count": null,
      "outputs": []
    },
    {
      "cell_type": "code",
      "source": [
        "a = 100\n",
        "print(\"the values is - \",a)"
      ],
      "metadata": {
        "colab": {
          "base_uri": "https://localhost:8080/"
        },
        "id": "RdG77cyIDgqr",
        "outputId": "86a81e64-270f-4fb6-a7f2-358c8125edc0"
      },
      "execution_count": null,
      "outputs": [
        {
          "output_type": "stream",
          "name": "stdout",
          "text": [
            "the values is -  100\n"
          ]
        }
      ]
    },
    {
      "cell_type": "code",
      "source": [
        "# the string formating\n",
        "frist_name = 'ganga'\n",
        "last_name = 'sajjan'\n",
        "\n",
        "print('the frist name is {1} the last name is {0}'.format(frist_name,last_name))"
      ],
      "metadata": {
        "colab": {
          "base_uri": "https://localhost:8080/"
        },
        "id": "p8vLCVnBDnEU",
        "outputId": "d51948f8-a62b-4d70-e099-d8754e027193"
      },
      "execution_count": null,
      "outputs": [
        {
          "output_type": "stream",
          "name": "stdout",
          "text": [
            "the frist name is sajjan the last name is ganga\n"
          ]
        }
      ]
    },
    {
      "cell_type": "code",
      "source": [
        "# input type"
      ],
      "metadata": {
        "id": "cqUB1jDcEFdO"
      },
      "execution_count": null,
      "outputs": []
    },
    {
      "cell_type": "code",
      "source": [
        "num = input(\"enter the name :\")\n",
        "num2 = input(\"enter the name :\")\n",
        "\n",
        "print(num + num2)\n"
      ],
      "metadata": {
        "colab": {
          "base_uri": "https://localhost:8080/"
        },
        "id": "CmQgRK6hEaT_",
        "outputId": "1e730316-8b28-4784-9df2-87e28a47b245"
      },
      "execution_count": null,
      "outputs": [
        {
          "output_type": "stream",
          "name": "stdout",
          "text": [
            "enter the name :ganga\n",
            "enter the name :sajjan\n",
            "gangasajjan\n"
          ]
        }
      ]
    },
    {
      "cell_type": "code",
      "source": [],
      "metadata": {
        "id": "duRas94BEnxI"
      },
      "execution_count": null,
      "outputs": []
    }
  ]
}