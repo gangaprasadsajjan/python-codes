{
 "cells": [
  {
   "cell_type": "code",
   "execution_count": 1,
   "id": "1efba87a",
   "metadata": {},
   "outputs": [],
   "source": [
    "# program for the 1 to entererd cubes of all numbers"
   ]
  },
  {
   "cell_type": "code",
   "execution_count": 7,
   "id": "19f33e28",
   "metadata": {},
   "outputs": [],
   "source": [
    "def cube(num):\n",
    "    num2 = range(1,num+1)\n",
    "    for i in num2:\n",
    "        print(\"cube of\",i,\"is = \",i**i)"
   ]
  },
  {
   "cell_type": "code",
   "execution_count": 8,
   "id": "0662e7a6",
   "metadata": {},
   "outputs": [
    {
     "name": "stdout",
     "output_type": "stream",
     "text": [
      "cube of 1 is =  1\n",
      "cube of 2 is =  4\n",
      "cube of 3 is =  27\n",
      "cube of 4 is =  256\n",
      "cube of 5 is =  3125\n",
      "cube of 6 is =  46656\n",
      "cube of 7 is =  823543\n",
      "cube of 8 is =  16777216\n",
      "cube of 9 is =  387420489\n",
      "cube of 10 is =  10000000000\n",
      "cube of 11 is =  285311670611\n",
      "cube of 12 is =  8916100448256\n",
      "cube of 13 is =  302875106592253\n"
     ]
    }
   ],
   "source": [
    "cube(13)"
   ]
  },
  {
   "cell_type": "code",
   "execution_count": null,
   "id": "b438d715",
   "metadata": {},
   "outputs": [],
   "source": []
  }
 ],
 "metadata": {
  "kernelspec": {
   "display_name": "Python 3 (ipykernel)",
   "language": "python",
   "name": "python3"
  },
  "language_info": {
   "codemirror_mode": {
    "name": "ipython",
    "version": 3
   },
   "file_extension": ".py",
   "mimetype": "text/x-python",
   "name": "python",
   "nbconvert_exporter": "python",
   "pygments_lexer": "ipython3",
   "version": "3.10.9"
  }
 },
 "nbformat": 4,
 "nbformat_minor": 5
}
