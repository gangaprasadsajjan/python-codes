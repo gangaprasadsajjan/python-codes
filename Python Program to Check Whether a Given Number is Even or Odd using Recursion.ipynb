{
 "cells": [
  {
   "cell_type": "code",
   "execution_count": null,
   "id": "0bbcf44a",
   "metadata": {},
   "outputs": [],
   "source": [
    "def test(n):\n",
    "    if (n < 2):\n",
    "        return(n % 2 == 0)\n",
    "    return(cheak(n - 2))\n",
    "n = int(input((\"enter number\")))\n",
    "if (test(n) == True):\n",
    "    print(\"number is even!\")\n",
    "\n",
    "else:\n",
    "    print(\"number is odd!\")"
   ]
  }
 ],
 "metadata": {
  "kernelspec": {
   "display_name": "Python 3 (ipykernel)",
   "language": "python",
   "name": "python3"
  },
  "language_info": {
   "codemirror_mode": {
    "name": "ipython",
    "version": 3
   },
   "file_extension": ".py",
   "mimetype": "text/x-python",
   "name": "python",
   "nbconvert_exporter": "python",
   "pygments_lexer": "ipython3",
   "version": "3.10.9"
  }
 },
 "nbformat": 4,
 "nbformat_minor": 5
}
