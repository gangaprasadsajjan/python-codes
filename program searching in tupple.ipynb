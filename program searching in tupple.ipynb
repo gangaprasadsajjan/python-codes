{
 "cells": [
  {
   "cell_type": "code",
   "execution_count": 5,
   "id": "7a2df538",
   "metadata": {},
   "outputs": [
    {
     "name": "stdout",
     "output_type": "stream",
     "text": [
      "enter the number 3\n",
      "3 Is Present in the (1, 2, 3, 4, 5)\n"
     ]
    }
   ],
   "source": [
    "x = (1 , 2 , 3 , 4 , 5)\n",
    "s = int(input(\"enter the number \"))\n",
    "if s in x:\n",
    "    x.index9\n",
    "    print(s,f\"Is Present in the {x}\")\n",
    "else :\n",
    "     print(s,f\"Is not Preesent in {x}\")"
   ]
  },
  {
   "cell_type": "code",
   "execution_count": null,
   "id": "5d2d26b5",
   "metadata": {},
   "outputs": [],
   "source": []
  }
 ],
 "metadata": {
  "kernelspec": {
   "display_name": "Python 3 (ipykernel)",
   "language": "python",
   "name": "python3"
  },
  "language_info": {
   "codemirror_mode": {
    "name": "ipython",
    "version": 3
   },
   "file_extension": ".py",
   "mimetype": "text/x-python",
   "name": "python",
   "nbconvert_exporter": "python",
   "pygments_lexer": "ipython3",
   "version": "3.10.9"
  }
 },
 "nbformat": 4,
 "nbformat_minor": 5
}
