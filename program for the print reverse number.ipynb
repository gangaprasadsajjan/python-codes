{
 "cells": [
  {
   "cell_type": "markdown",
   "id": "24f8244d",
   "metadata": {},
   "source": [
    "__program for the print reverse number__"
   ]
  },
  {
   "cell_type": "code",
   "execution_count": 25,
   "id": "72ef5d6b",
   "metadata": {},
   "outputs": [
    {
     "name": "stdout",
     "output_type": "stream",
     "text": [
      "enter a number   :45\n",
      "45|44|43|42|41|40|39|38|37|36|35|34|33|32|31|30|29|28|27|26|25|24|23|22|21|20|19|18|17|16|15|14|13|12|11|10|9|8|7|6|5|4|3|2|1|"
     ]
    }
   ],
   "source": [
    "num = int(input(\"enter a number   :\"))\n",
    "while 1 <= num:\n",
    "    print(num,end=\"|\")\n",
    "    num = num - 1\n",
    "    \n",
    "    "
   ]
  },
  {
   "cell_type": "markdown",
   "id": "b8d61f19",
   "metadata": {},
   "source": [
    "__addition of number by user entered__"
   ]
  },
  {
   "cell_type": "code",
   "execution_count": 18,
   "id": "ed2ec40c",
   "metadata": {},
   "outputs": [
    {
     "name": "stdout",
     "output_type": "stream",
     "text": [
      "enter a number   :110\n",
      "addition of =  6105\n"
     ]
    }
   ],
   "source": [
    "num = int(input(\"enter a number   :\"))\n",
    "f = 0\n",
    "while 1 <= num:\n",
    "    f = f + num\n",
    "    num = num - 1\n",
    "print(\"addition of = \" ,f)"
   ]
  },
  {
   "cell_type": "code",
   "execution_count": null,
   "id": "963e9d8f",
   "metadata": {},
   "outputs": [],
   "source": []
  },
  {
   "cell_type": "code",
   "execution_count": null,
   "id": "32a3b378",
   "metadata": {},
   "outputs": [],
   "source": []
  }
 ],
 "metadata": {
  "kernelspec": {
   "display_name": "Python 3 (ipykernel)",
   "language": "python",
   "name": "python3"
  },
  "language_info": {
   "codemirror_mode": {
    "name": "ipython",
    "version": 3
   },
   "file_extension": ".py",
   "mimetype": "text/x-python",
   "name": "python",
   "nbconvert_exporter": "python",
   "pygments_lexer": "ipython3",
   "version": "3.10.9"
  }
 },
 "nbformat": 4,
 "nbformat_minor": 5
}
