{
 "cells": [
  {
   "cell_type": "markdown",
   "id": "d4e421f4",
   "metadata": {},
   "source": [
    "__conting the digits the user entered__"
   ]
  },
  {
   "cell_type": "code",
   "execution_count": null,
   "id": "33880d41",
   "metadata": {},
   "outputs": [
    {
     "name": "stdout",
     "output_type": "stream",
     "text": [
      "plese enter digits to count\n"
     ]
    }
   ],
   "source": [
    "print(\"plese enter digits to count\")\n",
    "num = int(input())\n",
    "len_num = len(str(num))\n",
    "print(\"the entered number\",num,\"is have contain the \",len_num,\"digits\")"
   ]
  },
  {
   "cell_type": "code",
   "execution_count": null,
   "id": "5ec73168",
   "metadata": {},
   "outputs": [],
   "source": []
  },
  {
   "cell_type": "code",
   "execution_count": null,
   "id": "49e8167a",
   "metadata": {},
   "outputs": [],
   "source": []
  }
 ],
 "metadata": {
  "kernelspec": {
   "display_name": "Python 3 (ipykernel)",
   "language": "python",
   "name": "python3"
  },
  "language_info": {
   "codemirror_mode": {
    "name": "ipython",
    "version": 3
   },
   "file_extension": ".py",
   "mimetype": "text/x-python",
   "name": "python",
   "nbconvert_exporter": "python",
   "pygments_lexer": "ipython3",
   "version": "3.10.9"
  }
 },
 "nbformat": 4,
 "nbformat_minor": 5
}
