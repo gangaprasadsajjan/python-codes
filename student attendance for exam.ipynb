{
 "cells": [
  {
   "cell_type": "markdown",
   "id": "f1ebf717",
   "metadata": {},
   "source": [
    "__If a student's attendance is less than 75 percent of the total classes offered,\n",
    "she will not be permitted to take the exam. She must also demonstrate that 75 \n",
    "percent of her classmates have attended the classes,\n",
    "and she must print whether she is permitted to take the exam__"
   ]
  },
  {
   "cell_type": "code",
   "execution_count": 11,
   "id": "33305eb7",
   "metadata": {},
   "outputs": [
    {
     "name": "stdout",
     "output_type": "stream",
     "text": [
      "__classes attendence__\n",
      "enter the classes is held :120\n",
      "enter the classes student attended :80\n",
      "the student was attended the classes is  66 %\n",
      "student attendne is less than 75% \n",
      " not eligible for the exam.\n"
     ]
    }
   ],
   "source": [
    "print(\"__classes attendence__\")\n",
    "\n",
    "classes = float(input(\"enter the classes is held :\"))\n",
    "classes_attended = float(input(\"enter the classes student attended :\"))\n",
    "\n",
    "percentile = classes_attended/classes *100\n",
    "print(\"the student was attended the classes is \",int(percentile),\"%\")\n",
    "\n",
    "if percentile >= 75:\n",
    "    print(\"student is eligible for attend the exam \")\n",
    "else :\n",
    "    print(\"student attendne is less than 75% \\n not eligible for the exam.\")"
   ]
  },
  {
   "cell_type": "code",
   "execution_count": null,
   "id": "297ec229",
   "metadata": {},
   "outputs": [],
   "source": []
  },
  {
   "cell_type": "code",
   "execution_count": null,
   "id": "ad277f0b",
   "metadata": {},
   "outputs": [],
   "source": []
  }
 ],
 "metadata": {
  "kernelspec": {
   "display_name": "Python 3 (ipykernel)",
   "language": "python",
   "name": "python3"
  },
  "language_info": {
   "codemirror_mode": {
    "name": "ipython",
    "version": 3
   },
   "file_extension": ".py",
   "mimetype": "text/x-python",
   "name": "python",
   "nbconvert_exporter": "python",
   "pygments_lexer": "ipython3",
   "version": "3.10.9"
  }
 },
 "nbformat": 4,
 "nbformat_minor": 5
}
