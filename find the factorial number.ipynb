{
 "cells": [
  {
   "cell_type": "markdown",
   "id": "fe8e32a6",
   "metadata": {},
   "source": [
    "__find the factorial number__"
   ]
  },
  {
   "cell_type": "code",
   "execution_count": 13,
   "id": "54889706",
   "metadata": {},
   "outputs": [],
   "source": [
    "def fact():\n",
    "    a = int(input(\"enter the number \"))\n",
    "    f = 1\n",
    "    for p in range(1,a+1):\n",
    "        f = f * p\n",
    "    print(f)"
   ]
  },
  {
   "cell_type": "code",
   "execution_count": 14,
   "id": "520d01a5",
   "metadata": {},
   "outputs": [
    {
     "name": "stdout",
     "output_type": "stream",
     "text": [
      "enter the number 7\n",
      "5040\n"
     ]
    }
   ],
   "source": [
    "fact()"
   ]
  },
  {
   "cell_type": "code",
   "execution_count": 19,
   "id": "a7618e83",
   "metadata": {},
   "outputs": [
    {
     "name": "stdout",
     "output_type": "stream",
     "text": [
      "enter ther number 6\n",
      "factorial of number of 6 is  7776\n"
     ]
    }
   ],
   "source": [
    "num = int(input(\"enter ther number \"))\n",
    "a = 1\n",
    "b = 1\n",
    "while b < num:\n",
    "    a = a * num\n",
    "    b = b + 1\n",
    "print(\"factorial of number of\",num,\"is \",a)"
   ]
  },
  {
   "cell_type": "code",
   "execution_count": null,
   "id": "bf6a1d89",
   "metadata": {},
   "outputs": [],
   "source": []
  }
 ],
 "metadata": {
  "kernelspec": {
   "display_name": "Python 3 (ipykernel)",
   "language": "python",
   "name": "python3"
  },
  "language_info": {
   "codemirror_mode": {
    "name": "ipython",
    "version": 3
   },
   "file_extension": ".py",
   "mimetype": "text/x-python",
   "name": "python",
   "nbconvert_exporter": "python",
   "pygments_lexer": "ipython3",
   "version": "3.10.9"
  }
 },
 "nbformat": 4,
 "nbformat_minor": 5
}
