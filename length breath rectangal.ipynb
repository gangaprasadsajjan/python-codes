{
 "cells": [
  {
   "cell_type": "markdown",
   "id": "82805ada",
   "metadata": {},
   "source": [
    "__2.Write a program to take input of length and breadth of a rectangle__"
   ]
  },
  {
   "cell_type": "code",
   "execution_count": 8,
   "id": "408dd705",
   "metadata": {},
   "outputs": [
    {
     "name": "stdout",
     "output_type": "stream",
     "text": [
      "enter length cm  :12\n",
      "enter Breadth cm  :12\n",
      "is squre root\n"
     ]
    }
   ],
   "source": [
    "length = float(input(\"enter length cm  :\"))\n",
    "breadth = float(input(\"enter Breadth cm  :\"))\n",
    "if length == breadth :\n",
    "    print(\"is squre root\")\n",
    "else :\n",
    "    print(\" not squre root\")\n"
   ]
  },
  {
   "cell_type": "code",
   "execution_count": null,
   "id": "7b768b72",
   "metadata": {},
   "outputs": [],
   "source": []
  }
 ],
 "metadata": {
  "kernelspec": {
   "display_name": "Python 3 (ipykernel)",
   "language": "python",
   "name": "python3"
  },
  "language_info": {
   "codemirror_mode": {
    "name": "ipython",
    "version": 3
   },
   "file_extension": ".py",
   "mimetype": "text/x-python",
   "name": "python",
   "nbconvert_exporter": "python",
   "pygments_lexer": "ipython3",
   "version": "3.10.9"
  }
 },
 "nbformat": 4,
 "nbformat_minor": 5
}
