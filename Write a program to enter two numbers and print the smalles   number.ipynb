{
 "cells": [
  {
   "cell_type": "code",
   "execution_count": 3,
   "id": "cbe99d79",
   "metadata": {},
   "outputs": [
    {
     "name": "stdout",
     "output_type": "stream",
     "text": [
      "enter the number 11\n",
      "enter the number 0\n",
      "the smallest number  0\n"
     ]
    }
   ],
   "source": [
    "num1 = int(input(\"enter the number \"))\n",
    "num2 = int(input(\"enter the number \"))\n",
    "print(\"the smallest number \",min(num1, num2 ))\n"
   ]
  },
  {
   "cell_type": "code",
   "execution_count": null,
   "id": "bad0781a",
   "metadata": {},
   "outputs": [],
   "source": []
  }
 ],
 "metadata": {
  "kernelspec": {
   "display_name": "Python 3 (ipykernel)",
   "language": "python",
   "name": "python3"
  },
  "language_info": {
   "codemirror_mode": {
    "name": "ipython",
    "version": 3
   },
   "file_extension": ".py",
   "mimetype": "text/x-python",
   "name": "python",
   "nbconvert_exporter": "python",
   "pygments_lexer": "ipython3",
   "version": "3.10.9"
  }
 },
 "nbformat": 4,
 "nbformat_minor": 5
}
