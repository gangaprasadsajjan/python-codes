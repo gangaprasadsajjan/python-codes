{
 "cells": [
  {
   "cell_type": "markdown",
   "id": "260fd00d",
   "metadata": {},
   "source": [
    "__Take input of age of 3 people by user and determine oldest and\n",
    "youngest among them__"
   ]
  },
  {
   "cell_type": "code",
   "execution_count": 10,
   "id": "b9aeaf68",
   "metadata": {},
   "outputs": [
    {
     "name": "stdout",
     "output_type": "stream",
     "text": [
      "enter age 11\n",
      "enter age 22\n",
      "enter age 13\n",
      "oldest one is  11\n",
      "yongest one is  22\n"
     ]
    }
   ],
   "source": [
    "a1 = int(input(\"enter age \"))\n",
    "a2 = int(input(\"enter age \"))\n",
    "a3 = int(input(\"enter age \"))\n",
    "oldest = min(a1,a2,a3)\n",
    "yongest = max(a1,a2,a3)\n",
    "print(\"oldest one is \", oldest)\n",
    "print(\"yongest one is \", yongest)\n"
   ]
  },
  {
   "cell_type": "code",
   "execution_count": null,
   "id": "3db17a90",
   "metadata": {},
   "outputs": [],
   "source": []
  }
 ],
 "metadata": {
  "kernelspec": {
   "display_name": "Python 3 (ipykernel)",
   "language": "python",
   "name": "python3"
  },
  "language_info": {
   "codemirror_mode": {
    "name": "ipython",
    "version": 3
   },
   "file_extension": ".py",
   "mimetype": "text/x-python",
   "name": "python",
   "nbconvert_exporter": "python",
   "pygments_lexer": "ipython3",
   "version": "3.10.9"
  }
 },
 "nbformat": 4,
 "nbformat_minor": 5
}
