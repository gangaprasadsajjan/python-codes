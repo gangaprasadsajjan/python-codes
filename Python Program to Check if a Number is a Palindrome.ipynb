{
 "cells": [
  {
   "cell_type": "code",
   "execution_count": 4,
   "id": "4492541f",
   "metadata": {},
   "outputs": [
    {
     "name": "stdout",
     "output_type": "stream",
     "text": [
      "Enter numner :45678\n",
      "The number isNt a Pallidrome!\n"
     ]
    }
   ],
   "source": [
    "n = int(input(\"Enter numner :\"))\n",
    "temp = n\n",
    "rev = 0\n",
    "while (n>0):\n",
    "    dig = n%10\n",
    "    rev=rev*10+dig\n",
    "    n=n//10\n",
    "if(temp==rev):\n",
    "    print(\"The number is pallidrome\")\n",
    "else:\n",
    "    print(\"The number isNt a Pallidrome!\")"
   ]
  },
  {
   "cell_type": "code",
   "execution_count": null,
   "id": "091f7875",
   "metadata": {},
   "outputs": [],
   "source": []
  }
 ],
 "metadata": {
  "kernelspec": {
   "display_name": "Python 3 (ipykernel)",
   "language": "python",
   "name": "python3"
  },
  "language_info": {
   "codemirror_mode": {
    "name": "ipython",
    "version": 3
   },
   "file_extension": ".py",
   "mimetype": "text/x-python",
   "name": "python",
   "nbconvert_exporter": "python",
   "pygments_lexer": "ipython3",
   "version": "3.10.9"
  }
 },
 "nbformat": 4,
 "nbformat_minor": 5
}
