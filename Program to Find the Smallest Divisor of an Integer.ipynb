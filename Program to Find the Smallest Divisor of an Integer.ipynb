{
 "cells": [
  {
   "cell_type": "code",
   "execution_count": 10,
   "id": "5aaa0191",
   "metadata": {},
   "outputs": [
    {
     "name": "stdout",
     "output_type": "stream",
     "text": [
      "Enter an integer:77\n",
      "smallest divisor is : 0\n"
     ]
    }
   ],
   "source": [
    "n = int(input('Enter an integer:'))\n",
    "a = [0]\n",
    "for i in range (2,n+1):\n",
    "    if(n%i == 0):\n",
    "        a.append(i)\n",
    "a.sort()\n",
    "print(\"smallest divisor is :\",a[0])"
   ]
  },
  {
   "cell_type": "code",
   "execution_count": 18,
   "id": "f19e3c55",
   "metadata": {},
   "outputs": [
    {
     "name": "stdout",
     "output_type": "stream",
     "text": [
      "456\n",
      "smallest divers 2\n",
      "[2, 3, 4, 6, 8, 12, 19, 24, 38, 57, 76, 114, 152, 228, 456]\n"
     ]
    }
   ],
   "source": []
  },
  {
   "cell_type": "code",
   "execution_count": null,
   "id": "0c25e696",
   "metadata": {},
   "outputs": [],
   "source": []
  }
 ],
 "metadata": {
  "kernelspec": {
   "display_name": "Python 3 (ipykernel)",
   "language": "python",
   "name": "python3"
  },
  "language_info": {
   "codemirror_mode": {
    "name": "ipython",
    "version": 3
   },
   "file_extension": ".py",
   "mimetype": "text/x-python",
   "name": "python",
   "nbconvert_exporter": "python",
   "pygments_lexer": "ipython3",
   "version": "3.10.9"
  }
 },
 "nbformat": 4,
 "nbformat_minor": 5
}
