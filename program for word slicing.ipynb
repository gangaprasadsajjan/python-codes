{
 "cells": [
  {
   "cell_type": "code",
   "execution_count": 6,
   "id": "e1bbe77a",
   "metadata": {},
   "outputs": [
    {
     "name": "stdout",
     "output_type": "stream",
     "text": [
      "ganga 5\n",
      "prasad 6\n",
      "sajjan 6\n",
      "soham 5\n",
      "end\n"
     ]
    }
   ],
   "source": [
    "x = 'ganga prasad sajjan soham'\n",
    "p = x.split()\n",
    "for j in p:\n",
    "    print(j,len(j))\n",
    "print('end')\n",
    "    "
   ]
  },
  {
   "cell_type": "code",
   "execution_count": 15,
   "id": "0d2b3089",
   "metadata": {},
   "outputs": [
    {
     "name": "stdout",
     "output_type": "stream",
     "text": [
      "{' ': 5, 'i': 2, 'l': 1, 'o': 2, 'v': 1, 'e': 1, 'y': 1, 'u': 1, 'I': 1, 'n': 1, 'd': 1, 'a': 1}\n"
     ]
    }
   ],
   "source": [
    "s = \" i love you India \"\n",
    "res = {}\n",
    "for p in s:\n",
    "    if p in res:\n",
    "        res[p] += 1\n",
    "    else :\n",
    "        res[p] = 1\n",
    "print(res)"
   ]
  },
  {
   "cell_type": "code",
   "execution_count": null,
   "id": "616b79b5",
   "metadata": {},
   "outputs": [],
   "source": []
  }
 ],
 "metadata": {
  "kernelspec": {
   "display_name": "Python 3 (ipykernel)",
   "language": "python",
   "name": "python3"
  },
  "language_info": {
   "codemirror_mode": {
    "name": "ipython",
    "version": 3
   },
   "file_extension": ".py",
   "mimetype": "text/x-python",
   "name": "python",
   "nbconvert_exporter": "python",
   "pygments_lexer": "ipython3",
   "version": "3.10.9"
  }
 },
 "nbformat": 4,
 "nbformat_minor": 5
}
