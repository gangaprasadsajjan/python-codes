{
 "cells": [
  {
   "cell_type": "markdown",
   "id": "ab3dd125",
   "metadata": {},
   "source": [
    "__A company decided to give bonus of 5% to employee if his/her year\n",
    "of service is more than 5 years. Ask user for their salary and year of\n",
    "service and print the net bonus amount__"
   ]
  },
  {
   "cell_type": "code",
   "execution_count": 6,
   "id": "798bc864",
   "metadata": {},
   "outputs": [
    {
     "name": "stdout",
     "output_type": "stream",
     "text": [
      " enter sallary20000\n",
      "year of working5\n",
      "1000.0  net bonus amount for your   20000.0 sallary ..!\n"
     ]
    }
   ],
   "source": [
    "sallary = float(input(\" enter sallary\"))\n",
    "year_of_service = float(input(\"year of working\"))\n",
    "if year_of_service >= 5:\n",
    "    print(sallary * 0.05,\" net bonus amount for your  \",sallary,\"sallary ..!\")\n",
    "else :\n",
    "    print(\" work year\",5 - year_of_service,\"bonus will \"  )"
   ]
  },
  {
   "cell_type": "code",
   "execution_count": null,
   "id": "4723f357",
   "metadata": {},
   "outputs": [],
   "source": []
  },
  {
   "cell_type": "code",
   "execution_count": null,
   "id": "c6ce2a5a",
   "metadata": {},
   "outputs": [],
   "source": []
  }
 ],
 "metadata": {
  "kernelspec": {
   "display_name": "Python 3 (ipykernel)",
   "language": "python",
   "name": "python3"
  },
  "language_info": {
   "codemirror_mode": {
    "name": "ipython",
    "version": 3
   },
   "file_extension": ".py",
   "mimetype": "text/x-python",
   "name": "python",
   "nbconvert_exporter": "python",
   "pygments_lexer": "ipython3",
   "version": "3.10.9"
  }
 },
 "nbformat": 4,
 "nbformat_minor": 5
}
