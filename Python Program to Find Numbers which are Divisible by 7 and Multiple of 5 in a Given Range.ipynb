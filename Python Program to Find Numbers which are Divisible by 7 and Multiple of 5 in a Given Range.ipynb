{
 "cells": [
  {
   "cell_type": "code",
   "execution_count": 10,
   "id": "416517e5",
   "metadata": {},
   "outputs": [
    {
     "name": "stdout",
     "output_type": "stream",
     "text": [
      "enter the min range :1\n",
      "Enter the max range :999\n",
      "35\n",
      "70\n",
      "105\n",
      "140\n",
      "175\n",
      "210\n",
      "245\n",
      "280\n",
      "315\n",
      "350\n",
      "385\n",
      "420\n",
      "455\n",
      "490\n",
      "525\n",
      "560\n",
      "595\n",
      "630\n",
      "665\n",
      "700\n",
      "735\n",
      "770\n",
      "805\n",
      "840\n",
      "875\n",
      "910\n",
      "945\n",
      "980\n",
      "total numbers 28\n"
     ]
    }
   ],
   "source": [
    "a = int(input(\"enter the min range :\"))\n",
    "b = int(input(\"Enter the max range :\"))\n",
    "z = 0\n",
    "for i in range (a,b+1):\n",
    "    if (i%7==0 and i % 5 == 0):\n",
    "        z = z + 1\n",
    "        print(i)\n",
    "print(\"total numbers\",z)"
   ]
  },
  {
   "cell_type": "code",
   "execution_count": null,
   "id": "121682b8",
   "metadata": {},
   "outputs": [],
   "source": []
  }
 ],
 "metadata": {
  "kernelspec": {
   "display_name": "Python 3 (ipykernel)",
   "language": "python",
   "name": "python3"
  },
  "language_info": {
   "codemirror_mode": {
    "name": "ipython",
    "version": 3
   },
   "file_extension": ".py",
   "mimetype": "text/x-python",
   "name": "python",
   "nbconvert_exporter": "python",
   "pygments_lexer": "ipython3",
   "version": "3.10.9"
  }
 },
 "nbformat": 4,
 "nbformat_minor": 5
}
